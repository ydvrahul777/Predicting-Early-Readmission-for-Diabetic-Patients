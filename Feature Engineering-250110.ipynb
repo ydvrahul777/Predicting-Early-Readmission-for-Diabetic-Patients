{
 "cells": [
  {
   "cell_type": "code",
   "execution_count": 1,
   "id": "58b16866-defa-44e5-bd7c-80b186cc26af",
   "metadata": {},
   "outputs": [],
   "source": [
    "import pandas as pd \n",
    "import pyforest\n",
    "import numpy as np \n",
    "import seaborn as sns\n",
    "import warnings\n",
    "warnings.filterwarnings('ignore')\n",
    "from sklearn.metrics import *\n",
    "\n",
    "from sklearn.feature_selection import RFE\n",
    "from sklearn.tree              import DecisionTreeClassifier\n",
    "from sklearn.model_selection   import train_test_split\n",
    "from sklearn.metrics           import accuracy_score\n",
    "from imblearn.over_sampling    import SMOTE\n",
    "from imblearn.under_sampling   import RandomUnderSampler\n",
    "\n",
    "import pyforest\n",
    "from sklearn.linear_model      import LogisticRegression\n",
    "from sklearn.ensemble          import RandomForestClassifier, GradientBoostingClassifier\n",
    "from sklearn.naive_bayes       import GaussianNB\n",
    "from sklearn.neighbors         import KNeighborsClassifier\n",
    "from sklearn.metrics           import accuracy_score, recall_score, precision_score, f1_score"
   ]
  },
  {
   "cell_type": "code",
   "execution_count": 2,
   "id": "331beab1-d04e-444a-ad1e-d44ebd6042ef",
   "metadata": {},
   "outputs": [],
   "source": [
    "import os\n",
    "\n",
    "data_dir = r\"C:\\Users\\Rahul\\OneDrive\\Desktop\\Projects\\Predicting Early Readmission for Diabetic Patients\"\n",
    "os.chdir(data_dir)"
   ]
  },
  {
   "cell_type": "code",
   "execution_count": 3,
   "id": "c50c8a81-783e-4085-b9ea-da3bd620ab63",
   "metadata": {},
   "outputs": [
    {
     "data": {
      "text/html": [
       "<div>\n",
       "<style scoped>\n",
       "    .dataframe tbody tr th:only-of-type {\n",
       "        vertical-align: middle;\n",
       "    }\n",
       "\n",
       "    .dataframe tbody tr th {\n",
       "        vertical-align: top;\n",
       "    }\n",
       "\n",
       "    .dataframe thead th {\n",
       "        text-align: right;\n",
       "    }\n",
       "</style>\n",
       "<table border=\"1\" class=\"dataframe\">\n",
       "  <thead>\n",
       "    <tr style=\"text-align: right;\">\n",
       "      <th></th>\n",
       "      <th>race</th>\n",
       "      <th>gender</th>\n",
       "      <th>age</th>\n",
       "      <th>admission_type_id</th>\n",
       "      <th>admission_source_id</th>\n",
       "      <th>time_in_hospital</th>\n",
       "      <th>payer_code</th>\n",
       "      <th>medical_specialty</th>\n",
       "      <th>num_lab_procedures</th>\n",
       "      <th>num_procedures</th>\n",
       "      <th>...</th>\n",
       "      <th>insulin</th>\n",
       "      <th>glyburide-metformin</th>\n",
       "      <th>glipizide-metformin</th>\n",
       "      <th>glimepiride-pioglitazone</th>\n",
       "      <th>metformin-rosiglitazone</th>\n",
       "      <th>metformin-pioglitazone</th>\n",
       "      <th>change</th>\n",
       "      <th>diabetesMed</th>\n",
       "      <th>Discharged to</th>\n",
       "      <th>Target</th>\n",
       "    </tr>\n",
       "  </thead>\n",
       "  <tbody>\n",
       "    <tr>\n",
       "      <th>0</th>\n",
       "      <td>Caucasian</td>\n",
       "      <td>Female</td>\n",
       "      <td>[10-20)</td>\n",
       "      <td>1.0</td>\n",
       "      <td>7.0</td>\n",
       "      <td>3.0</td>\n",
       "      <td>MD</td>\n",
       "      <td>Emergency/Trauma</td>\n",
       "      <td>59.0</td>\n",
       "      <td>0.0</td>\n",
       "      <td>...</td>\n",
       "      <td>Up</td>\n",
       "      <td>No</td>\n",
       "      <td>No</td>\n",
       "      <td>No</td>\n",
       "      <td>No</td>\n",
       "      <td>No</td>\n",
       "      <td>Ch</td>\n",
       "      <td>Yes</td>\n",
       "      <td>Home</td>\n",
       "      <td>0.0</td>\n",
       "    </tr>\n",
       "    <tr>\n",
       "      <th>1</th>\n",
       "      <td>AfricanAmerican</td>\n",
       "      <td>Female</td>\n",
       "      <td>[20-30)</td>\n",
       "      <td>1.0</td>\n",
       "      <td>7.0</td>\n",
       "      <td>2.0</td>\n",
       "      <td>HM</td>\n",
       "      <td>Urology</td>\n",
       "      <td>11.0</td>\n",
       "      <td>5.0</td>\n",
       "      <td>...</td>\n",
       "      <td>No</td>\n",
       "      <td>No</td>\n",
       "      <td>No</td>\n",
       "      <td>No</td>\n",
       "      <td>No</td>\n",
       "      <td>No</td>\n",
       "      <td>No</td>\n",
       "      <td>Yes</td>\n",
       "      <td>Home</td>\n",
       "      <td>0.0</td>\n",
       "    </tr>\n",
       "    <tr>\n",
       "      <th>2</th>\n",
       "      <td>Caucasian</td>\n",
       "      <td>Male</td>\n",
       "      <td>[30-40)</td>\n",
       "      <td>1.0</td>\n",
       "      <td>7.0</td>\n",
       "      <td>2.0</td>\n",
       "      <td>OG</td>\n",
       "      <td>InternalMedicine</td>\n",
       "      <td>44.0</td>\n",
       "      <td>1.0</td>\n",
       "      <td>...</td>\n",
       "      <td>Up</td>\n",
       "      <td>No</td>\n",
       "      <td>No</td>\n",
       "      <td>No</td>\n",
       "      <td>No</td>\n",
       "      <td>No</td>\n",
       "      <td>Ch</td>\n",
       "      <td>Yes</td>\n",
       "      <td>Home</td>\n",
       "      <td>0.0</td>\n",
       "    </tr>\n",
       "    <tr>\n",
       "      <th>3</th>\n",
       "      <td>Caucasian</td>\n",
       "      <td>Male</td>\n",
       "      <td>[40-50)</td>\n",
       "      <td>1.0</td>\n",
       "      <td>7.0</td>\n",
       "      <td>1.0</td>\n",
       "      <td>OG</td>\n",
       "      <td>InternalMedicine</td>\n",
       "      <td>51.0</td>\n",
       "      <td>0.0</td>\n",
       "      <td>...</td>\n",
       "      <td>Steady</td>\n",
       "      <td>No</td>\n",
       "      <td>No</td>\n",
       "      <td>No</td>\n",
       "      <td>No</td>\n",
       "      <td>No</td>\n",
       "      <td>Ch</td>\n",
       "      <td>Yes</td>\n",
       "      <td>Home</td>\n",
       "      <td>0.0</td>\n",
       "    </tr>\n",
       "    <tr>\n",
       "      <th>4</th>\n",
       "      <td>Caucasian</td>\n",
       "      <td>Male</td>\n",
       "      <td>[50-60)</td>\n",
       "      <td>2.0</td>\n",
       "      <td>2.0</td>\n",
       "      <td>3.0</td>\n",
       "      <td>HM</td>\n",
       "      <td>Radiologist</td>\n",
       "      <td>31.0</td>\n",
       "      <td>6.0</td>\n",
       "      <td>...</td>\n",
       "      <td>Steady</td>\n",
       "      <td>No</td>\n",
       "      <td>No</td>\n",
       "      <td>No</td>\n",
       "      <td>No</td>\n",
       "      <td>No</td>\n",
       "      <td>No</td>\n",
       "      <td>Yes</td>\n",
       "      <td>Home</td>\n",
       "      <td>0.0</td>\n",
       "    </tr>\n",
       "  </tbody>\n",
       "</table>\n",
       "<p>5 rows × 45 columns</p>\n",
       "</div>"
      ],
      "text/plain": [
       "              race  gender      age  admission_type_id  admission_source_id  \\\n",
       "0        Caucasian  Female  [10-20)                1.0                  7.0   \n",
       "1  AfricanAmerican  Female  [20-30)                1.0                  7.0   \n",
       "2        Caucasian    Male  [30-40)                1.0                  7.0   \n",
       "3        Caucasian    Male  [40-50)                1.0                  7.0   \n",
       "4        Caucasian    Male  [50-60)                2.0                  2.0   \n",
       "\n",
       "   time_in_hospital payer_code medical_specialty  num_lab_procedures  \\\n",
       "0               3.0         MD  Emergency/Trauma                59.0   \n",
       "1               2.0         HM           Urology                11.0   \n",
       "2               2.0         OG  InternalMedicine                44.0   \n",
       "3               1.0         OG  InternalMedicine                51.0   \n",
       "4               3.0         HM       Radiologist                31.0   \n",
       "\n",
       "   num_procedures  ...  insulin  glyburide-metformin  glipizide-metformin  \\\n",
       "0             0.0  ...       Up                   No                   No   \n",
       "1             5.0  ...       No                   No                   No   \n",
       "2             1.0  ...       Up                   No                   No   \n",
       "3             0.0  ...   Steady                   No                   No   \n",
       "4             6.0  ...   Steady                   No                   No   \n",
       "\n",
       "   glimepiride-pioglitazone metformin-rosiglitazone metformin-pioglitazone  \\\n",
       "0                        No                      No                     No   \n",
       "1                        No                      No                     No   \n",
       "2                        No                      No                     No   \n",
       "3                        No                      No                     No   \n",
       "4                        No                      No                     No   \n",
       "\n",
       "  change  diabetesMed Discharged to Target  \n",
       "0     Ch          Yes          Home    0.0  \n",
       "1     No          Yes          Home    0.0  \n",
       "2     Ch          Yes          Home    0.0  \n",
       "3     Ch          Yes          Home    0.0  \n",
       "4     No          Yes          Home    0.0  \n",
       "\n",
       "[5 rows x 45 columns]"
      ]
     },
     "execution_count": 3,
     "metadata": {},
     "output_type": "execute_result"
    }
   ],
   "source": [
    "file_name  =   'Cleaned_data_2025-03-05 09-32-53.csv'\n",
    "df         =   pd.read_csv(file_name,keep_default_na = False)\n",
    "df.head()"
   ]
  },
  {
   "cell_type": "code",
   "execution_count": 7,
   "id": "367c8606-e66c-4876-b298-12a9780e5e6b",
   "metadata": {},
   "outputs": [
    {
     "data": {
      "text/html": [
       "<div>\n",
       "<style scoped>\n",
       "    .dataframe tbody tr th:only-of-type {\n",
       "        vertical-align: middle;\n",
       "    }\n",
       "\n",
       "    .dataframe tbody tr th {\n",
       "        vertical-align: top;\n",
       "    }\n",
       "\n",
       "    .dataframe thead th {\n",
       "        text-align: right;\n",
       "    }\n",
       "</style>\n",
       "<table border=\"1\" class=\"dataframe\">\n",
       "  <thead>\n",
       "    <tr style=\"text-align: right;\">\n",
       "      <th></th>\n",
       "      <th>race</th>\n",
       "      <th>gender</th>\n",
       "      <th>age</th>\n",
       "      <th>admission_type_id</th>\n",
       "      <th>admission_source_id</th>\n",
       "      <th>time_in_hospital</th>\n",
       "      <th>payer_code</th>\n",
       "      <th>medical_specialty</th>\n",
       "      <th>num_lab_procedures</th>\n",
       "      <th>num_procedures</th>\n",
       "      <th>...</th>\n",
       "      <th>insulin</th>\n",
       "      <th>glyburide-metformin</th>\n",
       "      <th>glipizide-metformin</th>\n",
       "      <th>glimepiride-pioglitazone</th>\n",
       "      <th>metformin-rosiglitazone</th>\n",
       "      <th>metformin-pioglitazone</th>\n",
       "      <th>change</th>\n",
       "      <th>diabetesMed</th>\n",
       "      <th>Discharged to</th>\n",
       "      <th>Target</th>\n",
       "    </tr>\n",
       "  </thead>\n",
       "  <tbody>\n",
       "    <tr>\n",
       "      <th>0</th>\n",
       "      <td>2.0</td>\n",
       "      <td>0.0</td>\n",
       "      <td>1.0</td>\n",
       "      <td>1.0</td>\n",
       "      <td>7.0</td>\n",
       "      <td>3.0</td>\n",
       "      <td>8.0</td>\n",
       "      <td>8.0</td>\n",
       "      <td>59.0</td>\n",
       "      <td>0.0</td>\n",
       "      <td>...</td>\n",
       "      <td>3.0</td>\n",
       "      <td>1.0</td>\n",
       "      <td>0.0</td>\n",
       "      <td>0.0</td>\n",
       "      <td>0.0</td>\n",
       "      <td>0.0</td>\n",
       "      <td>0.0</td>\n",
       "      <td>1.0</td>\n",
       "      <td>1.0</td>\n",
       "      <td>0.0</td>\n",
       "    </tr>\n",
       "    <tr>\n",
       "      <th>1</th>\n",
       "      <td>0.0</td>\n",
       "      <td>0.0</td>\n",
       "      <td>2.0</td>\n",
       "      <td>1.0</td>\n",
       "      <td>7.0</td>\n",
       "      <td>2.0</td>\n",
       "      <td>6.0</td>\n",
       "      <td>71.0</td>\n",
       "      <td>11.0</td>\n",
       "      <td>5.0</td>\n",
       "      <td>...</td>\n",
       "      <td>1.0</td>\n",
       "      <td>1.0</td>\n",
       "      <td>0.0</td>\n",
       "      <td>0.0</td>\n",
       "      <td>0.0</td>\n",
       "      <td>0.0</td>\n",
       "      <td>1.0</td>\n",
       "      <td>1.0</td>\n",
       "      <td>1.0</td>\n",
       "      <td>0.0</td>\n",
       "    </tr>\n",
       "    <tr>\n",
       "      <th>2</th>\n",
       "      <td>2.0</td>\n",
       "      <td>1.0</td>\n",
       "      <td>3.0</td>\n",
       "      <td>1.0</td>\n",
       "      <td>7.0</td>\n",
       "      <td>2.0</td>\n",
       "      <td>10.0</td>\n",
       "      <td>18.0</td>\n",
       "      <td>44.0</td>\n",
       "      <td>1.0</td>\n",
       "      <td>...</td>\n",
       "      <td>3.0</td>\n",
       "      <td>1.0</td>\n",
       "      <td>0.0</td>\n",
       "      <td>0.0</td>\n",
       "      <td>0.0</td>\n",
       "      <td>0.0</td>\n",
       "      <td>0.0</td>\n",
       "      <td>1.0</td>\n",
       "      <td>1.0</td>\n",
       "      <td>0.0</td>\n",
       "    </tr>\n",
       "    <tr>\n",
       "      <th>3</th>\n",
       "      <td>2.0</td>\n",
       "      <td>1.0</td>\n",
       "      <td>4.0</td>\n",
       "      <td>1.0</td>\n",
       "      <td>7.0</td>\n",
       "      <td>1.0</td>\n",
       "      <td>10.0</td>\n",
       "      <td>18.0</td>\n",
       "      <td>51.0</td>\n",
       "      <td>0.0</td>\n",
       "      <td>...</td>\n",
       "      <td>2.0</td>\n",
       "      <td>1.0</td>\n",
       "      <td>0.0</td>\n",
       "      <td>0.0</td>\n",
       "      <td>0.0</td>\n",
       "      <td>0.0</td>\n",
       "      <td>0.0</td>\n",
       "      <td>1.0</td>\n",
       "      <td>1.0</td>\n",
       "      <td>0.0</td>\n",
       "    </tr>\n",
       "    <tr>\n",
       "      <th>4</th>\n",
       "      <td>2.0</td>\n",
       "      <td>1.0</td>\n",
       "      <td>5.0</td>\n",
       "      <td>2.0</td>\n",
       "      <td>2.0</td>\n",
       "      <td>3.0</td>\n",
       "      <td>6.0</td>\n",
       "      <td>52.0</td>\n",
       "      <td>31.0</td>\n",
       "      <td>6.0</td>\n",
       "      <td>...</td>\n",
       "      <td>2.0</td>\n",
       "      <td>1.0</td>\n",
       "      <td>0.0</td>\n",
       "      <td>0.0</td>\n",
       "      <td>0.0</td>\n",
       "      <td>0.0</td>\n",
       "      <td>1.0</td>\n",
       "      <td>1.0</td>\n",
       "      <td>1.0</td>\n",
       "      <td>0.0</td>\n",
       "    </tr>\n",
       "  </tbody>\n",
       "</table>\n",
       "<p>5 rows × 45 columns</p>\n",
       "</div>"
      ],
      "text/plain": [
       "   race  gender  age  admission_type_id  admission_source_id  \\\n",
       "0   2.0     0.0  1.0                1.0                  7.0   \n",
       "1   0.0     0.0  2.0                1.0                  7.0   \n",
       "2   2.0     1.0  3.0                1.0                  7.0   \n",
       "3   2.0     1.0  4.0                1.0                  7.0   \n",
       "4   2.0     1.0  5.0                2.0                  2.0   \n",
       "\n",
       "   time_in_hospital  payer_code  medical_specialty  num_lab_procedures  \\\n",
       "0               3.0         8.0                8.0                59.0   \n",
       "1               2.0         6.0               71.0                11.0   \n",
       "2               2.0        10.0               18.0                44.0   \n",
       "3               1.0        10.0               18.0                51.0   \n",
       "4               3.0         6.0               52.0                31.0   \n",
       "\n",
       "   num_procedures  ...  insulin  glyburide-metformin  glipizide-metformin  \\\n",
       "0             0.0  ...      3.0                  1.0                  0.0   \n",
       "1             5.0  ...      1.0                  1.0                  0.0   \n",
       "2             1.0  ...      3.0                  1.0                  0.0   \n",
       "3             0.0  ...      2.0                  1.0                  0.0   \n",
       "4             6.0  ...      2.0                  1.0                  0.0   \n",
       "\n",
       "   glimepiride-pioglitazone  metformin-rosiglitazone  metformin-pioglitazone  \\\n",
       "0                       0.0                      0.0                     0.0   \n",
       "1                       0.0                      0.0                     0.0   \n",
       "2                       0.0                      0.0                     0.0   \n",
       "3                       0.0                      0.0                     0.0   \n",
       "4                       0.0                      0.0                     0.0   \n",
       "\n",
       "   change  diabetesMed  Discharged to  Target  \n",
       "0     0.0          1.0            1.0     0.0  \n",
       "1     1.0          1.0            1.0     0.0  \n",
       "2     0.0          1.0            1.0     0.0  \n",
       "3     0.0          1.0            1.0     0.0  \n",
       "4     1.0          1.0            1.0     0.0  \n",
       "\n",
       "[5 rows x 45 columns]"
      ]
     },
     "execution_count": 7,
     "metadata": {},
     "output_type": "execute_result"
    }
   ],
   "source": [
    "file_name_ =  'Model_data_2025-03-05 09-32-53.csv'\n",
    "model_df=pd.read_csv(file_name_)\n",
    "model_df.head()"
   ]
  },
  {
   "cell_type": "markdown",
   "id": "c35b7dbd-5eb8-4316-af09-abcd05d4cbea",
   "metadata": {},
   "source": [
    "# 4. Feature Engineering"
   ]
  },
  {
   "cell_type": "markdown",
   "id": "6df297db-9e3e-4892-931a-60c43c840c67",
   "metadata": {},
   "source": [
    "#### 4.1. Transformations required\n",
    "##### Whether any transformations required\n",
    "Data transformation is essential for preparing the dataset for model building. In our case, label encoding was applied to the dataset to make it suitable for the model. Additionally, the target variable ('readmitted') was created based on the following conditions:\n",
    "* 0: If df['readmitted'] is '>30' or 'NO'\n",
    "* 1: If df['readmitted'] is '<30'\n",
    "\n",
    "#### 4.2 From the variable, 'discharge_disposition_id' indicating where the patient went after discharge, we created a variable, 'Discharged to' as follows:\n",
    "\n",
    "Home                       = [1, 13] # values in the column, discharge_disposition_id\n",
    "Facility                   = [2, 3, 4, 5, 6, 8, 9, 10, 14, 15, 16, 17, 22, 23, 24, 30, 27, 28, 29]\n",
    "Home_w_homecare            = [6, 8]\n",
    "Expired                    = [11, 12, 18, 19, 20,21,25, 26]\n",
    "Others                     = [7]"
   ]
  },
  {
   "cell_type": "markdown",
   "id": "9aa889fc-9636-40f7-b140-3fd3df2cad54",
   "metadata": {},
   "source": [
    "### 4.2. Scaling the data"
   ]
  },
  {
   "cell_type": "markdown",
   "id": "1f6e3c1d-ad42-4f0d-a7b1-70a1beb8beeb",
   "metadata": {},
   "source": [
    "#### Scaling\n",
    "Scaling continuous variables is crucial to ensure they have a meaningful impact on the model. However, scaling columns with binary values (0 or 1) is unnecessary as it doesn't improve the model's performance. Since binary variables, such as dummy variables, represent categorical information, scaling them would distort their intended influence. In our dataset, there are no continuous numerical variables, so there is no need for scaling. Without continuous variables, we don't have to worry about the issues that arise from scaling such features, and thus can focus on other preprocessing steps to prepare the data for model building."
   ]
  },
  {
   "cell_type": "markdown",
   "id": "fe27ea60-9e74-4084-877f-7cbbcdd22c43",
   "metadata": {},
   "source": [
    "### 4.3. Feature selection"
   ]
  },
  {
   "cell_type": "markdown",
   "id": "0aaf6316-9175-4b71-9df8-40082d2e981d",
   "metadata": {},
   "source": [
    "#### Recursive Feature Elimination:\n",
    "Recursive Feature Elimination (RFE) is a powerful feature selection technique in machine learning that helps identify the most relevant features for model training. By recursively removing the least important features, RFE aims to improve the model’s performance by reducing overfitting and enhancing interpretability. It is especially useful when working with datasets that contain many features, allowing you to narrow down the dataset to only the most significant ones."
   ]
  },
  {
   "cell_type": "markdown",
   "id": "bc68e084-5cfa-48fa-bfdc-7c97ce369b92",
   "metadata": {},
   "source": [
    "#### Steps to Use RFE:\n",
    "\n",
    "    1.Choose an Estimator:\n",
    "    RFE requires an estimator (like DecisionTreeClassifier, LogisticRegression, etc.) that can calculate feature importance.\n",
    "\n",
    "    2.Specify Number of Features:\n",
    "    Define the number of features you want to keep using the n_features_to_select parameter.\n",
    "\n",
    "    3.Fit the Model:\n",
    "    Fit the RFE model to the training data using fit(). It evaluates the features and eliminates the least important ones.\n",
    "    \n",
    "    4.Evaluate Feature Selection:\n",
    "    Use the support_ attribute to see which features are selected (True for selected). The ranking_ attribute shows the rank of all features (1 for most important).\n",
    "    \n",
    "    5.Transform the Data:\n",
    "    Use transform() to apply the feature selection to the dataset, keeping only the most important features."
   ]
  },
  {
   "cell_type": "code",
   "execution_count": 16,
   "id": "1a02fc2a-67b1-42a4-a9fb-7d1242c45a20",
   "metadata": {},
   "outputs": [],
   "source": [
    "X = model_df.drop(columns=['Target'])  # Features\n",
    "y = model_df['Target']  # Target variable"
   ]
  },
  {
   "cell_type": "code",
   "execution_count": 18,
   "id": "6bfa75eb-fdcf-4159-8d77-f0a93599461b",
   "metadata": {},
   "outputs": [],
   "source": [
    "# Split the data into training and testing sets\n",
    "X_train, X_test, y_train, y_test = train_test_split(X, y, test_size=0.2, random_state=42)"
   ]
  },
  {
   "cell_type": "code",
   "execution_count": 20,
   "id": "18351445-6140-4624-bb31-da5a085fc6c6",
   "metadata": {},
   "outputs": [],
   "source": [
    "smote = SMOTE(random_state=42)\n",
    "X_train_smote, y_train_smote = smote.fit_resample(X_train, y_train)"
   ]
  },
  {
   "cell_type": "code",
   "execution_count": 21,
   "id": "b9b948ee-0ca8-49ed-b0d8-d0093cb94320",
   "metadata": {},
   "outputs": [
    {
     "name": "stdout",
     "output_type": "stream",
     "text": [
      "Class distribution after SMOTE:\n",
      "Target\n",
      "0.0    67760\n",
      "1.0    67760\n",
      "Name: count, dtype: int64\n"
     ]
    }
   ],
   "source": [
    "print(\"Class distribution after SMOTE:\")\n",
    "print(y_train_smote.value_counts())"
   ]
  },
  {
   "cell_type": "code",
   "execution_count": 22,
   "id": "c1619e0c-ebf7-495a-92e5-08d28b6ad155",
   "metadata": {},
   "outputs": [
    {
     "name": "stdout",
     "output_type": "stream",
     "text": [
      "                     Feature  Ranking\n",
      "0              Discharged to        1\n",
      "1                     change        1\n",
      "2                     diag_3        1\n",
      "3                     diag_2        1\n",
      "4                     diag_1        1\n",
      "5           number_inpatient        1\n",
      "6                diabetesMed        1\n",
      "7         num_lab_procedures        1\n",
      "8            num_medications        1\n",
      "9                 payer_code        1\n",
      "10          time_in_hospital        1\n",
      "11                       age        1\n",
      "12                    gender        1\n",
      "13         medical_specialty        1\n",
      "14                 metformin        1\n",
      "15                   insulin        2\n",
      "16          number_diagnoses        3\n",
      "17            num_procedures        4\n",
      "18          number_emergency        5\n",
      "19       admission_source_id        6\n",
      "20         admission_type_id        7\n",
      "21                 glipizide        8\n",
      "22         number_outpatient        9\n",
      "23                 A1Cresult       10\n",
      "24                      race       11\n",
      "25                 glyburide       12\n",
      "26             max_glu_serum       13\n",
      "27              pioglitazone       14\n",
      "28             rosiglitazone       15\n",
      "29               glimepiride       16\n",
      "30               repaglinide       17\n",
      "31               nateglinide       18\n",
      "32       glyburide-metformin       19\n",
      "33                  acarbose       20\n",
      "34            chlorpropamide       21\n",
      "35                tolazamide       22\n",
      "36                  miglitol       23\n",
      "37               tolbutamide       24\n",
      "38       glipizide-metformin       25\n",
      "39             acetohexamide       26\n",
      "40              troglitazone       27\n",
      "41  glimepiride-pioglitazone       28\n",
      "42   metformin-rosiglitazone       29\n",
      "43    metformin-pioglitazone       30\n",
      "Accuracy with selected features: 0.7911\n"
     ]
    }
   ],
   "source": [
    "model = DecisionTreeClassifier(random_state=42)\n",
    "\n",
    "rfe = RFE(estimator=model, n_features_to_select=15)  \n",
    "\n",
    "# Fit RFE to the training data\n",
    "rfe.fit(X_train_smote, y_train_smote)\n",
    "\n",
    "# Get the ranking of features\n",
    "ranking = rfe.ranking_\n",
    "\n",
    "# Create a DataFrame to display the feature names and their rankings\n",
    "feature_ranking = pd.DataFrame({'Feature': X.columns, 'Ranking': ranking})\n",
    "feature_ranking=feature_ranking.sort_values(by='Ranking').reset_index()\n",
    "feature_ranking.drop('index',axis=1,inplace=True)\n",
    "print(feature_ranking)\n",
    "\n",
    "# Evaluate the model with the selected features\n",
    "X_train_selected = rfe.transform(X_train_smote)\n",
    "X_test_selected = rfe.transform(X_test)\n",
    "\n",
    "# Fit the model with the selected features\n",
    "model.fit(X_train_selected, y_train_smote)\n",
    "y_pred = model.predict(X_test_selected)\n",
    "\n",
    "# Calculate accuracy\n",
    "accuracy = accuracy_score(y_test, y_pred)\n",
    "print(f\"Accuracy with selected features: {accuracy:.4f}\")\n"
   ]
  },
  {
   "cell_type": "code",
   "execution_count": 23,
   "id": "f3278835-d761-48ff-a400-8f3e95b0dba6",
   "metadata": {},
   "outputs": [
    {
     "name": "stdout",
     "output_type": "stream",
     "text": [
      "Top 15 features selected by RFE: ['gender', 'age', 'time_in_hospital', 'payer_code', 'medical_specialty', 'num_lab_procedures', 'num_medications', 'number_inpatient', 'diag_1', 'diag_2', 'diag_3', 'metformin', 'change', 'diabetesMed', 'Discharged to']\n"
     ]
    }
   ],
   "source": [
    "# Create a DataFrame to display the feature names and their rankings\n",
    "feature_ranking = pd.DataFrame({'Feature': X.columns, 'Ranking': ranking})\n",
    "\n",
    "# Extract the top 15 features (Ranking = 1 indicates they are selected)\n",
    "top_15_features = feature_ranking[feature_ranking['Ranking'] == 1]['Feature'].tolist()\n",
    "\n",
    "# Print the top 15 features\n",
    "print(f\"Top 15 features selected by RFE: {top_15_features}\")"
   ]
  },
  {
   "cell_type": "code",
   "execution_count": null,
   "id": "4b1324d1-05f6-4ae6-84d4-82c3dd005cf3",
   "metadata": {},
   "outputs": [],
   "source": []
  },
  {
   "cell_type": "markdown",
   "id": "6dd659c7-a735-45c8-be29-5bcc8c822cb4",
   "metadata": {},
   "source": [
    "### 4.4. Dimensionality Reduction"
   ]
  },
  {
   "cell_type": "code",
   "execution_count": null,
   "id": "a9d5b8b7-5440-4e54-bf79-53696e10f2d9",
   "metadata": {},
   "outputs": [],
   "source": []
  },
  {
   "cell_type": "markdown",
   "id": "bc07dc07-30b7-4c27-b978-bc108edd0c6e",
   "metadata": {},
   "source": [
    "# 5. Assumptions"
   ]
  },
  {
   "cell_type": "code",
   "execution_count": null,
   "id": "1e9a53db-e723-41a0-9e7f-b9c9494815ab",
   "metadata": {},
   "outputs": [],
   "source": []
  },
  {
   "cell_type": "markdown",
   "id": "095fc593-e88f-4d09-9fb8-3ad3a8f4ec30",
   "metadata": {},
   "source": [
    "# 6. Building and evaluation of Base model"
   ]
  },
  {
   "cell_type": "markdown",
   "id": "da2eb478-2f00-4316-9f0b-072681a755df",
   "metadata": {},
   "source": [
    "#### With RFE"
   ]
  },
  {
   "cell_type": "code",
   "execution_count": 33,
   "id": "465aaec9-6619-4f46-a36e-f124a91a235a",
   "metadata": {},
   "outputs": [
    {
     "data": {
      "text/plain": [
       "'\\n   Function Name: compare_models\\n\\n   Description: This **function** compares various algorithms on \\n                 1) AUROC 2) Precision, 3) Recall\\n   \\n   Input: 1) splits for k fold \\n          2) random seed number\\n          3) Training data for predictor variables\\n          4) Training data for target variable\\n\\n\\n\\n   Output: Model comparison on these metrics 1) AUROC 2) Metrics - Precision, Recall\\n   \\n'"
      ]
     },
     "execution_count": 33,
     "metadata": {},
     "output_type": "execute_result"
    }
   ],
   "source": [
    "\"\"\"\n",
    "   Function Name: compare_models\n",
    "\n",
    "   Description: This **function** compares various algorithms on \n",
    "                 1) AUROC 2) Precision, 3) Recall\n",
    "   \n",
    "   Input: 1) splits for k fold \n",
    "          2) random seed number\n",
    "          3) Training data for predictor variables\n",
    "          4) Training data for target variable\n",
    "\n",
    "\n",
    "\n",
    "   Output: Model comparison on these metrics 1) AUROC 2) Metrics - Precision, Recall\n",
    "   \n",
    "\"\"\""
   ]
  },
  {
   "cell_type": "code",
   "execution_count": 34,
   "id": "95b15090-1fe3-4f34-96c9-68108d8a22aa",
   "metadata": {},
   "outputs": [],
   "source": [
    "def compare_models(n_splits, random_state, X, Y, title = 'Algorithm Comparison using Recall' ):      \n",
    "    import  matplotlib.pyplot            as      plt\n",
    "    from    sklearn.model_selection      import  StratifiedKFold\n",
    "    from    sklearn.model_selection      import  cross_val_score\n",
    "    from    sklearn.linear_model         import  LogisticRegression\n",
    "    from    sklearn.tree                 import  DecisionTreeClassifier\n",
    "    from    sklearn.naive_bayes          import  GaussianNB\n",
    "    from    sklearn.ensemble             import  RandomForestClassifier\n",
    "    from    sklearn.neighbors            import  KNeighborsClassifier     \n",
    "    from    xgboost                      import  XGBClassifier  \n",
    "    \n",
    "    ### Prepare models\n",
    "    models  = []\n",
    "    models.append(('LR', LogisticRegression(max_iter = 20000))) \n",
    "    models.append(('CART', DecisionTreeClassifier()))\n",
    "    models.append(('NB', GaussianNB()))\n",
    "    models.append(('RF', RandomForestClassifier()))\n",
    "    models.append(('KNN', KNeighborsClassifier()))        \n",
    "\n",
    "    ### Evaluate model in turn\n",
    "    scores_req =  ['recall']\n",
    "    print(\"\\n n_splits %d random_state %d\" % (n_splits, random_state))     \n",
    "    for i in range(len(scores_req)):\n",
    "        names          =   []\n",
    "        results        =   []\n",
    "        scoring        =   scores_req[i]\n",
    "        print(scoring)\n",
    "         \n",
    "        for name, model in models:\n",
    "            skf            =   StratifiedKFold(n_splits=10, shuffle=True, random_state=1)\n",
    "            cv_results     =   cross_val_score(model, X, Y, cv = skf, scoring = scoring)\n",
    "            results.append(cv_results)\n",
    "            names.append(name)\n",
    "            msg = \"%s: %f (%f)\" % (name, cv_results.mean(), cv_results.std())\n",
    "            print(msg)\n",
    "        \n",
    "        ### Box plot algorithm comparison\n",
    "        sub_title = title\n",
    "        fig = plt.figure()\n",
    "        fig.suptitle(sub_title)\n",
    "        ax  = fig.add_subplot(111)\n",
    "        plt.boxplot(results)\n",
    "        ax.set_xticklabels(names)\n",
    "        plt.show()"
   ]
  },
  {
   "cell_type": "code",
   "execution_count": 35,
   "id": "a8d18023-855a-4765-878d-8081258b473b",
   "metadata": {},
   "outputs": [],
   "source": [
    "'''\n",
    "X = model_df[['gender', 'age', 'discharge_disposition_id', 'time_in_hospital',\n",
    "              'payer_code', 'medical_specialty', 'num_lab_procedures',\n",
    "              'num_medications','number_inpatient', 'diag_1', 'diag_2',\n",
    "              'diag_3', 'number_diagnoses', 'change', 'diabetesMed']\n",
    "'''\n",
    "X  =  model_df[top_15_features] # Features\n",
    "y  =  model_df['Target']  # Target variable"
   ]
  },
  {
   "cell_type": "code",
   "execution_count": 36,
   "id": "260de4d9-7d93-4ba1-972e-a354d297cd04",
   "metadata": {},
   "outputs": [],
   "source": [
    "X_train, X_test, y_train, y_test = train_test_split(X, y, test_size=0.2, random_state=42)"
   ]
  },
  {
   "cell_type": "code",
   "execution_count": 37,
   "id": "43fde087-da97-4855-be30-fa5b8450a542",
   "metadata": {},
   "outputs": [],
   "source": [
    "smote = SMOTE(random_state=42)\n",
    "X_train_smote, y_train_smote = smote.fit_resample(X_train, y_train)"
   ]
  },
  {
   "cell_type": "code",
   "execution_count": 38,
   "id": "a7403753-cd57-4ece-8031-4619c5017b96",
   "metadata": {},
   "outputs": [],
   "source": [
    "n_splits=10\n",
    "random_state=12345"
   ]
  },
  {
   "cell_type": "code",
   "execution_count": 39,
   "id": "38d5da87-1ada-464b-93f1-d61cda09f27a",
   "metadata": {},
   "outputs": [
    {
     "name": "stdout",
     "output_type": "stream",
     "text": [
      "\n",
      " n_splits 10 random_state 12345\n",
      "recall\n",
      "LR: 0.528365 (0.006439)\n",
      "CART: 0.893964 (0.002960)\n",
      "NB: 0.623613 (0.004510)\n",
      "RF: 0.877110 (0.003969)\n",
      "KNN: 0.973996 (0.002052)\n"
     ]
    },
    {
     "data": {
      "image/png": "[encoded data removed]",
      "text/plain": [
       "<Figure size 640x480 with 1 Axes>"
      ]
     },
     "metadata": {},
     "output_type": "display_data"
    }
   ],
   "source": [
    "title_SMOTE = 'Algorithm Comparison using Recall data after applying SMOTE' \n",
    "compare_models(n_splits, random_state, X_train_smote, y_train_smote, title_SMOTE )"
   ]
  },
  {
   "cell_type": "markdown",
   "id": "07be53ab-71dd-44da-afeb-c7663f40676e",
   "metadata": {},
   "source": [
    "### With RFE and under sampling"
   ]
  },
  {
   "cell_type": "markdown",
   "id": "ef099313-3ac0-44e8-9dd3-af2f743acf4f",
   "metadata": {},
   "source": [
    "**Random undersampling** involves randomly selecting examples from the majority class to delete from the training dataset.\n",
    "\n",
    "This has the effect of reducing the number of examples in the majority class in the transformed version of the training dataset. This process can be repeated until the desired class distribution is achieved, such as an equal number of examples for each class.\n",
    "\n",
    "This approach may be more suitable for those datasets where there is a class imbalance although a sufficient number of examples in the minority class, such a useful model can be fit.\n",
    "\n",
    "A limitation of undersampling is that examples from the majority class are deleted that may be useful, important, or perhaps critical to fitting a robust decision boundary. Given that examples are deleted randomly, there is no way to detect or preserve “good” or more information-rich examples from the majority class.\n",
    "\n",
    "https://machinelearningmastery.com/random-oversampling-and-undersampling-for-imbalanced-classification/"
   ]
  },
  {
   "cell_type": "code",
   "execution_count": 42,
   "id": "dbdcd93a-9e03-41c3-b69f-31c19c9ce434",
   "metadata": {},
   "outputs": [],
   "source": [
    "# define undersample strategy\n",
    "undersample = RandomUnderSampler(sampling_strategy='majority')\n",
    "# fit and apply the transform\n",
    "X_train_under, y_train_under = undersample.fit_resample(X_train, y_train)"
   ]
  },
  {
   "cell_type": "code",
   "execution_count": 43,
   "id": "ba63b584-8823-4e79-8b0d-2ab14accf2ef",
   "metadata": {},
   "outputs": [
    {
     "name": "stdout",
     "output_type": "stream",
     "text": [
      "\n",
      " n_splits 10 random_state 12345\n",
      "recall\n",
      "LR: 0.507576 (0.013458)\n",
      "CART: 0.549048 (0.020140)\n",
      "NB: 0.356716 (0.017064)\n",
      "RF: 0.594248 (0.019765)\n",
      "KNN: 0.509088 (0.012685)\n"
     ]
    },
    {
     "data": {
      "image/png": "[encoded data removed]",
      "text/plain": [
       "<Figure size 640x480 with 1 Axes>"
      ]
     },
     "metadata": {},
     "output_type": "display_data"
    }
   ],
   "source": [
    "title_UNDER = 'Algorithm Comparison using Recall data after applying UNDER SAMPLING TECHNIQUE' \n",
    "compare_models(n_splits, random_state, X_train_under, y_train_under, title_UNDER)"
   ]
  },
  {
   "cell_type": "markdown",
   "id": "66baaa31-a9d4-4285-a5ae-4e03b55fca7f",
   "metadata": {},
   "source": [
    "#### With RFE and Without Smoting"
   ]
  },
  {
   "cell_type": "code",
   "execution_count": 45,
   "id": "36d392e4-b4dd-47ca-8d7c-e284745b81f4",
   "metadata": {},
   "outputs": [
    {
     "name": "stdout",
     "output_type": "stream",
     "text": [
      "\n",
      " n_splits 10 random_state 12345\n",
      "recall\n",
      "LR: 0.016660 (0.002861)\n",
      "CART: 0.179173 (0.014290)\n",
      "NB: 0.110323 (0.009280)\n",
      "RF: 0.009319 (0.003210)\n",
      "KNN: 0.020387 (0.006737)\n"
     ]
    },
    {
     "data": {
      "image/png": "[encoded data removed]",
      "text/plain": [
       "<Figure size 640x480 with 1 Axes>"
      ]
     },
     "metadata": {},
     "output_type": "display_data"
    }
   ],
   "source": [
    "title_normal = 'Algorithm Comparison using Recall data after applying without treating data imbalance' \n",
    "compare_models(n_splits, random_state, X_train, y_train, title_normal)"
   ]
  },
  {
   "cell_type": "markdown",
   "id": "3595c5b6-5e5f-4dc4-a47c-f7105fe925a8",
   "metadata": {},
   "source": [
    "### Data after SMOTE to be written"
   ]
  },
  {
   "cell_type": "code",
   "execution_count": 47,
   "id": "9c066ed2-882b-4797-bb13-0c497b5b49ab",
   "metadata": {},
   "outputs": [
    {
     "name": "stdout",
     "output_type": "stream",
     "text": [
      "\n",
      "SMOTE data - Training data X (135520, 15) y (135520,)\n"
     ]
    }
   ],
   "source": [
    "print(\"\\nSMOTE data - Training data X {0} y {1}\".format(X_train_smote.shape, y_train_smote.shape))"
   ]
  },
  {
   "cell_type": "code",
   "execution_count": 51,
   "id": "a72dc991-5763-40e3-b5d0-8b3096b8d253",
   "metadata": {},
   "outputs": [],
   "source": [
    "X_train_smote.to_csv(\n",
    "    r\"C:\\Users\\Rahul\\OneDrive\\Desktop\\Projects\\Predicting Early Readmission for Diabetic Patients\\SM_X_train.csv\",\n",
    "    index=False,\n",
    ")"
   ]
  },
  {
   "cell_type": "code",
   "execution_count": 53,
   "id": "24cc810c-8d30-40b4-8cd0-3e338b7b754a",
   "metadata": {},
   "outputs": [],
   "source": [
    "y_train_smote.to_csv(\n",
    "    r\"C:\\Users\\Rahul\\OneDrive\\Desktop\\Projects\\Predicting Early Readmission for Diabetic Patients\\SM_y_train.csv\",\n",
    "    index=False,\n",
    ")"
   ]
  },
  {
   "cell_type": "code",
   "execution_count": null,
   "id": "81364d32-508e-4cc9-b057-fa25d9b22c93",
   "metadata": {},
   "outputs": [],
   "source": []
  }
 ],
 "metadata": {
  "kernelspec": {
   "display_name": "Python 3 (ipykernel)",
   "language": "python",
   "name": "python3"
  },
  "language_info": {
   "codemirror_mode": {
    "name": "ipython",
    "version": 3
   },
   "file_extension": ".py",
   "mimetype": "text/x-python",
   "name": "python",
   "nbconvert_exporter": "python",
   "pygments_lexer": "ipython3",
   "version": "3.12.4"
  }
 },
 "nbformat": 4,
 "nbformat_minor": 5
}
